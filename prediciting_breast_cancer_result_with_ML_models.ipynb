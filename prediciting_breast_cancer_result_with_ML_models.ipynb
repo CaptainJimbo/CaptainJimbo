{
 "cells": [
  {
   "cell_type": "code",
   "execution_count": 1,
   "metadata": {},
   "outputs": [],
   "source": [
    "import numpy as np\n",
    "import matplotlib.pyplot as plt\n",
    "\n",
    "from sklearn.linear_model import LogisticRegression\n",
    "from sklearn.datasets import load_breast_cancer # i picked a binary class data set\n",
    "from sklearn.model_selection import train_test_split"
   ]
  },
  {
   "cell_type": "code",
   "execution_count": 2,
   "metadata": {},
   "outputs": [
    {
     "name": "stdout",
     "output_type": "stream",
     "text": [
      "Our data has 30 features which are attributes of the tumor like mean radius mean texture mean perimeter etc, class 0 means malignant tumor and class 1 means benign tumor\n"
     ]
    }
   ],
   "source": [
    "data = load_breast_cancer(return_X_y = True, as_frame = True ) \n",
    "print('Our data has',data[0].shape[1],'features which are attributes of the tumor like',*list(data[0].keys())[:3],'etc, class 0 means malignant tumor and class 1 means benign tumor')"
   ]
  },
  {
   "cell_type": "code",
   "execution_count": 3,
   "metadata": {},
   "outputs": [],
   "source": [
    "cancer_data = data[0]\n",
    "#features = np.array(cancer_data.keys())\n",
    "# what are the differences between lists and arrays ?\n",
    "features = cancer_data.keys()\n",
    "cancer_data.columns = features\n",
    "cancer_data['type'] = data[1]\n",
    "del data"
   ]
  },
  {
   "cell_type": "code",
   "execution_count": 4,
   "metadata": {},
   "outputs": [
    {
     "name": "stdout",
     "output_type": "stream",
     "text": [
      "We are using 113 samples for training and 456 samples for testing/validation\n",
      "\n",
      "iterations to converge = 21  \n",
      "intercept = 0.2030558216400218 \n",
      "coefficients = [1.3463215661136692, -0.0076141774397330796, 0.04406204324697174, 0.006867854530036686, -0.04072955168176151, -0.2128881184365512, -0.29355476047399914, -0.1460538270889988, -0.05731943830816998, -0.010005112731955814, 0.05142591060228836, 0.48377809539681543, -0.033047193573241665, -0.03268303237229105, -0.015270548862917338, -0.04107808373738012, -0.06994499238269547, -0.029918352722781982, -0.038577829330613864, -0.005207927587367274, 1.1097275025108013, -0.17921965779534063, -0.11185279344270684, -0.0341083448497732, -0.05707933833009267, -0.39566140042449993, -0.43421090137089746, -0.24208384166188193, -0.2605252689109488, -0.017759371712353585]\n"
     ]
    }
   ],
   "source": [
    "test_size = 0.8\n",
    "train, test = train_test_split (cancer_data, test_size=test_size)\n",
    "print(f'We are using {len(train)} samples for training and {len(test)} samples for testing/validation') \n",
    "max_iterations = 30\n",
    "classifier = LogisticRegression (random_state=0 , solver='liblinear', penalty='l2', n_jobs=1, max_iter=max_iterations )\n",
    "classifier.fit(train[features],train['type'])\n",
    "print(f'\\niterations to converge = {classifier.n_iter_[0]}  \\nintercept = {classifier.intercept_[0]} \\ncoefficients = {list(classifier.coef_[0])}')"
   ]
  },
  {
   "cell_type": "code",
   "execution_count": 5,
   "metadata": {},
   "outputs": [
    {
     "name": "stdout",
     "output_type": "stream",
     "text": [
      "The expit function is 1/(1+exp(-F)), where F is \n",
      "F = 0.2 + (1.35 * \u001b[1mmean radius\u001b[0m) + (-0.01 * \u001b[1mmean texture\u001b[0m) + (0.04 * \u001b[1mmean perimeter\u001b[0m) + (0.01 * \u001b[1mmean area\u001b[0m) + (-0.04 * \u001b[1mmean smoothness\u001b[0m) + (-0.21 * \u001b[1mmean compactness\u001b[0m) + (-0.29 * \u001b[1mmean concavity\u001b[0m) + (-0.15 * \u001b[1mmean concave points\u001b[0m) + (-0.06 * \u001b[1mmean symmetry\u001b[0m) + (-0.01 * \u001b[1mmean fractal dimension\u001b[0m) + (0.05 * \u001b[1mradius error\u001b[0m) + (0.48 * \u001b[1mtexture error\u001b[0m) + (-0.03 * \u001b[1mperimeter error\u001b[0m) + (-0.03 * \u001b[1marea error\u001b[0m) + (-0.02 * \u001b[1msmoothness error\u001b[0m) + (-0.04 * \u001b[1mcompactness error\u001b[0m) + (-0.07 * \u001b[1mconcavity error\u001b[0m) + (-0.03 * \u001b[1mconcave points error\u001b[0m) + (-0.04 * \u001b[1msymmetry error\u001b[0m) + (-0.01 * \u001b[1mfractal dimension error\u001b[0m) + (1.11 * \u001b[1mworst radius\u001b[0m) + (-0.18 * \u001b[1mworst texture\u001b[0m) + (-0.11 * \u001b[1mworst perimeter\u001b[0m) + (-0.03 * \u001b[1mworst area\u001b[0m) + (-0.06 * \u001b[1mworst smoothness\u001b[0m) + (-0.4 * \u001b[1mworst compactness\u001b[0m) + (-0.43 * \u001b[1mworst concavity\u001b[0m) + (-0.24 * \u001b[1mworst concave points\u001b[0m) + (-0.26 * \u001b[1mworst symmetry\u001b[0m) + (-0.02 * \u001b[1mworst fractal dimension\u001b[0m)\n"
     ]
    }
   ],
   "source": [
    "def print_sigmoid_function(classifier): #your function to print the F\n",
    "    formula = str (round(classifier.intercept_[0], 2))\n",
    "    for coef, column in zip(classifier.coef_[0],features):\n",
    "        formula += ' + (' +  str(round(coef,2)) + ' * ' + '\\033[1m' + str(column) + '\\033[0m' + ')'\n",
    "    print(f'The expit function is 1/(1+exp(-F)), where F is \\nF = {formula}')\n",
    "        \n",
    "print_sigmoid_function(classifier)"
   ]
  },
  {
   "cell_type": "code",
   "execution_count": 6,
   "metadata": {},
   "outputs": [
    {
     "name": "stdout",
     "output_type": "stream",
     "text": [
      "predictions\n",
      " [0, 0, 1, 0, 1, 1, 1, 1, 0, 1, 0, 1, 1, 1, 1, 1, 0, 0, 1, 1, 1, 1, 0, 1, 1, 1, 0, 1, 1, 0, 1, 0, 0, 1, 1, 1, 1, 1, 1, 0, 0, 0, 1, 0, 0, 1, 0, 1, 0, 0, 0, 1, 0, 1, 1, 1, 0, 0, 1, 0, 1, 1, 0, 0, 1, 1, 0, 1, 1, 1, 0, 0, 1, 0, 0, 0, 0, 1, 0, 0, 1, 1, 0, 1, 1, 1, 0, 1, 0, 0, 1, 1, 1, 1, 0, 1, 0, 1, 0, 0, 1, 1, 1, 1, 0, 0, 0, 1, 0, 1, 0, 0, 1, 1, 1, 1, 1, 0, 1, 0, 0, 0, 1, 1, 0, 0, 1, 1, 1, 0, 0, 0, 1, 0, 1, 0, 1, 1, 0, 0, 1, 0, 1, 0, 1, 1, 0, 1, 1, 1, 0, 1, 1, 1, 1, 1, 1, 1, 0, 1, 1, 1, 1, 1, 1, 1, 1, 1, 0, 1, 0, 0, 0, 0, 1, 1, 1, 0, 1, 1, 0, 1, 0, 0, 1, 1, 0, 1, 1, 0, 1, 0, 1, 1, 0, 1, 1, 1, 1, 1, 1, 1, 1, 0, 1, 1, 1, 0, 1, 1, 1, 1, 0, 0, 0, 0, 1, 1, 1, 1, 0, 1, 0, 0, 1, 1, 0, 1, 1, 1, 1, 1, 1, 0, 0, 1, 1, 1, 1, 1, 1, 1, 0, 0, 1, 0, 1, 1, 1, 1, 1, 1, 0, 0, 0, 0, 0, 1, 0, 1, 1, 0, 0, 1, 1, 1, 0, 1, 1, 1, 0, 1, 1, 0, 1, 0, 1, 1, 1, 0, 1, 1, 1, 0, 1, 1, 1, 1, 1, 0, 1, 1, 1, 1, 0, 1, 1, 0, 1, 1, 1, 1, 1, 1, 1, 1, 1, 1, 1, 1, 1, 1, 0, 1, 1, 1, 1, 1, 0, 1, 0, 1, 1, 0, 1, 1, 1, 0, 0, 1, 1, 1, 1, 1, 1, 0, 0, 1, 0, 1, 1, 1, 1, 0, 1, 1, 1, 1, 1, 0, 0, 1, 0, 0, 0, 0, 0, 1, 0, 0, 0, 0, 1, 1, 0, 1, 0, 1, 1, 0, 0, 1, 0, 0, 1, 1, 1, 1, 1, 1, 1, 1, 1, 1, 1, 1, 1, 0, 0, 1, 1, 1, 1, 1, 1, 0, 1, 1, 1, 0, 0, 1, 0, 1, 0, 1, 1, 1, 0, 0, 1, 1, 1, 0, 1, 0, 0, 1, 0, 1, 1, 1, 1, 1, 0, 1, 1, 1, 1, 1, 1, 1, 1, 0, 0, 1, 1, 0, 1, 1, 0, 1, 0, 1, 1, 1, 0, 1, 1, 1, 0, 0, 0, 1, 1, 1]\n",
      "\n",
      "actual results\n",
      " [0, 0, 0, 0, 1, 1, 1, 1, 0, 1, 0, 1, 1, 1, 1, 1, 0, 0, 1, 1, 1, 1, 0, 1, 1, 1, 0, 1, 1, 0, 1, 0, 0, 1, 1, 1, 1, 1, 1, 1, 0, 0, 1, 1, 0, 1, 0, 1, 0, 0, 0, 1, 0, 1, 1, 1, 0, 0, 1, 0, 1, 0, 0, 0, 1, 1, 0, 1, 1, 1, 0, 0, 1, 0, 0, 0, 0, 1, 0, 0, 1, 1, 0, 1, 1, 0, 0, 1, 0, 0, 1, 0, 1, 1, 0, 1, 0, 1, 0, 0, 1, 1, 1, 1, 0, 0, 0, 1, 0, 1, 0, 0, 1, 1, 1, 1, 1, 0, 1, 0, 0, 0, 1, 1, 0, 0, 1, 1, 1, 0, 1, 1, 1, 0, 1, 0, 1, 1, 0, 0, 1, 0, 1, 0, 1, 1, 0, 1, 1, 1, 0, 1, 1, 1, 1, 1, 1, 1, 0, 1, 1, 1, 1, 1, 1, 1, 1, 1, 1, 1, 0, 0, 0, 0, 0, 1, 0, 0, 1, 1, 0, 1, 0, 0, 1, 1, 0, 1, 0, 0, 1, 0, 1, 1, 0, 1, 1, 1, 1, 1, 1, 1, 1, 0, 1, 1, 1, 0, 1, 1, 1, 1, 1, 0, 0, 0, 1, 1, 1, 1, 0, 1, 0, 0, 1, 1, 0, 1, 1, 1, 1, 1, 1, 0, 0, 0, 1, 1, 1, 1, 1, 1, 0, 0, 1, 0, 1, 1, 1, 1, 1, 1, 0, 0, 0, 0, 0, 1, 0, 1, 1, 0, 0, 1, 1, 1, 0, 1, 1, 0, 0, 1, 1, 0, 1, 0, 0, 1, 1, 0, 1, 1, 1, 0, 1, 1, 1, 1, 1, 0, 1, 1, 1, 1, 0, 1, 1, 0, 0, 1, 1, 1, 1, 1, 1, 1, 1, 1, 1, 1, 1, 1, 0, 1, 1, 1, 1, 1, 0, 1, 0, 1, 1, 0, 1, 1, 1, 0, 0, 1, 1, 1, 1, 1, 1, 0, 0, 1, 0, 1, 1, 1, 1, 0, 1, 1, 1, 1, 1, 0, 1, 1, 0, 0, 0, 0, 0, 1, 0, 0, 0, 0, 0, 1, 0, 1, 0, 1, 1, 0, 1, 1, 0, 0, 1, 0, 1, 1, 1, 1, 1, 1, 1, 1, 1, 1, 1, 1, 0, 1, 1, 1, 1, 1, 1, 0, 1, 0, 1, 0, 0, 1, 0, 1, 0, 1, 1, 0, 0, 0, 1, 1, 1, 0, 1, 0, 0, 1, 0, 1, 1, 1, 1, 1, 1, 1, 1, 1, 1, 1, 1, 1, 1, 0, 0, 1, 0, 0, 1, 1, 0, 1, 0, 1, 1, 1, 0, 1, 1, 1, 0, 0, 0, 1, 1, 1]\n"
     ]
    }
   ],
   "source": [
    "pred = classifier.predict(test[features])\n",
    "print('predictions\\n',list(pred))\n",
    "print('\\nactual results\\n',list(test['type']))"
   ]
  },
  {
   "cell_type": "code",
   "execution_count": 7,
   "metadata": {},
   "outputs": [
    {
     "name": "stdout",
     "output_type": "stream",
     "text": [
      "Correctly guessed: 430 out of 456 \n",
      "Efficiency =  94.0 %\n"
     ]
    }
   ],
   "source": [
    "correct = 0\n",
    "for prediction , real  in zip(pred, test['type']):\n",
    "    if prediction == real:\n",
    "        correct += 1\n",
    "print('Correctly guessed:', correct, 'out of', len(pred), '\\nEfficiency = ', 100*round(correct/len(pred),2),'%')"
   ]
  },
  {
   "cell_type": "code",
   "execution_count": 8,
   "metadata": {},
   "outputs": [
    {
     "name": "stdout",
     "output_type": "stream",
     "text": [
      "Some of the first instances of probabilities of the result zipped with the actual result (0.0, 0) (0.0996, 0) (0.9715, 0) (0.0309, 0) (0.9979, 1) (0.9959, 1) (0.9934, 1) (0.958, 1) (0.0, 0) (0.9813, 1)\n"
     ]
    }
   ],
   "source": [
    "number_of_probs_to_print = 10\n",
    "test_values = test[features].values\n",
    "types = []\n",
    "for r in test.values:\n",
    "    t = classifier.intercept_[0] + sum(val*coef for val,coef in zip(r,classifier.coef_[0]))\n",
    "    prob = 1/(1+np.exp(-t))\n",
    "    types.append(round(prob,4))\n",
    "probs_and_reals = list(zip(types,test['type']))    \n",
    "print('Some of the first instances of probabilities of the result zipped with the actual result', *probs_and_reals[:number_of_probs_to_print])"
   ]
  },
  {
   "cell_type": "code",
   "execution_count": 9,
   "metadata": {},
   "outputs": [
    {
     "name": "stdout",
     "output_type": "stream",
     "text": [
      "[[9.99999854e-01 1.45508434e-07]\n",
      " [9.00372871e-01 9.96271295e-02]\n",
      " [2.84979761e-02 9.71502024e-01]\n",
      " [9.69105852e-01 3.08941483e-02]\n",
      " [2.12034461e-03 9.97879655e-01]\n",
      " [4.10363312e-03 9.95896367e-01]\n",
      " [6.58174995e-03 9.93418250e-01]\n",
      " [4.19511828e-02 9.58048817e-01]\n",
      " [1.00000000e+00 8.16625312e-14]\n",
      " [1.86732718e-02 9.81326728e-01]] \n",
      "\n",
      "we can see they are complentary\n"
     ]
    }
   ],
   "source": [
    "probs = classifier.predict_proba(test[features])\n",
    "print(probs[:number_of_probs_to_print],'\\n\\nwe can see they are complentary')\n",
    "# i dont know how not to print in scientific form"
   ]
  },
  {
   "cell_type": "code",
   "execution_count": 10,
   "metadata": {},
   "outputs": [
    {
     "data": {
      "image/png": "[encoded data removed]",
      "text/plain": [
       "<Figure size 864x648 with 1 Axes>"
      ]
     },
     "metadata": {
      "needs_background": "light"
     },
     "output_type": "display_data"
    }
   ],
   "source": [
    "max_number_of_samples = len(test)\n",
    "fig = plt.figure(figsize=(12,9))\n",
    "ax = fig.add_subplot(111)\n",
    "b = 0\n",
    "m = 0\n",
    "for n in range(len(np.array(probs_and_reals)[:max_number_of_samples,1])):\n",
    "    if (np.array(probs_and_reals)[n,1] == 1.0) :\n",
    "        ax.plot(n,np.array(probs_and_reals)[n,0],'ob')\n",
    "        b += 1\n",
    "    elif (np.array(probs_and_reals)[n,1] == 0.0) :\n",
    "        ax.plot(n,np.array(probs_and_reals)[n,0],'*r')#label='malignant')\n",
    "        m += 1\n",
    "ax.plot([],[],marker='o',color='b',label='benign ('+str(b)+' samples)')\n",
    "ax.plot([],[],marker='s',color='r',label='malignant ('+str(m)+' samples)')\n",
    "plt.legend(loc='best');"
   ]
  },
  {
   "cell_type": "code",
   "execution_count": 11,
   "metadata": {},
   "outputs": [
    {
     "data": {
      "image/png": "[encoded data removed]",
      "text/plain": [
       "<Figure size 864x648 with 1 Axes>"
      ]
     },
     "metadata": {
      "needs_background": "light"
     },
     "output_type": "display_data"
    }
   ],
   "source": [
    "def plot_prediction_probability_with_real_result_class (probs_and_reals):\n",
    "    malignants = []\n",
    "    benigns = []\n",
    "    for probability , result in probs_and_reals:\n",
    "        if result == 0 :\n",
    "            malignants.append(probability)\n",
    "        elif result == 1 :\n",
    "            benigns.append(probability) \n",
    "    fig = plt.figure(figsize=(12,9))\n",
    "    ax1 = fig.add_subplot(111)\n",
    "    ax1.scatter( range(len(benigns)), benigns, color='blue', marker='o',label='benign ('+str(len(benigns))+' samples)')\n",
    "    ax1.scatter( range(len(malignants)), malignants, color='red', marker='*',label='malignant ('+str(len(malignants))+' samples)')\n",
    "    plt.legend(loc='best')\n",
    "\n",
    "plot_prediction_probability_with_real_result_class (probs_and_reals[:max_number_of_samples])\n",
    "\n",
    "#this way was fitting because we had equal samples of the the two classes it gets weird when they are diffrent "
   ]
  },
  {
   "cell_type": "code",
   "execution_count": 12,
   "metadata": {},
   "outputs": [
    {
     "name": "stdout",
     "output_type": "stream",
     "text": [
      "to find the features that are relevant we pick the ones with z scores > 2 and pvalues < 0.05\n",
      "\n",
      "relevant features ['mean radius', 'mean texture', 'mean perimeter', 'mean area', 'mean concavity', 'radius error', 'perimeter error', 'area error', 'worst radius', 'worst texture', 'worst perimeter', 'worst area', 'worst concavity'] \n",
      "\n",
      "irrelevant_features ['mean smoothness', 'mean compactness', 'mean concave points', 'mean symmetry', 'mean fractal dimension', 'texture error', 'smoothness error', 'compactness error', 'concavity error', 'concave points error', 'symmetry error', 'fractal dimension error', 'worst smoothness', 'worst compactness', 'worst concave points', 'worst symmetry', 'worst fractal dimension']\n"
     ]
    }
   ],
   "source": [
    "print ('to find the features that are relevant we pick the ones with z scores > 2 and pvalues < 0.05\\n')\n",
    "from sklearn.feature_selection import chi2\n",
    "relevant_features =[]\n",
    "irrelevant_features =[]\n",
    "scores, pvalues = chi2(train[features],train['type'])\n",
    "#list(zip(features,scores,pvalues))\n",
    "for f, s, p in zip(features,scores,pvalues):\n",
    "    if s >= 2 and p <= 0.05 :\n",
    "        relevant_features.append(f)\n",
    "    else:\n",
    "        irrelevant_features.append(f)\n",
    "print('relevant features',relevant_features,'\\n\\nirrelevant_features',irrelevant_features)\n"
   ]
  },
  {
   "cell_type": "code",
   "execution_count": 13,
   "metadata": {
    "scrolled": true
   },
   "outputs": [
    {
     "name": "stdout",
     "output_type": "stream",
     "text": [
      "same code as above but with the relevant features: ['mean radius', 'mean texture', 'mean perimeter', 'mean area', 'mean concavity', 'radius error', 'perimeter error', 'area error', 'worst radius', 'worst texture', 'worst perimeter', 'worst area', 'worst concavity']\n",
      "\n",
      "iterations to converge = 20  \n",
      "intercept = 0.19074206494122595 \n",
      "coefficients = [1.2566691397223786, -0.05244282853228778, 0.08109040076416703, 0.007238805804572218, -0.272895092186609, 0.05136879159023095, -0.02806149838213589, -0.017944989585962252, 1.0808271696753295, -0.11405600613875114, -0.13522795118567615, -0.03462293440709838, -0.4158079937626385] \n",
      "\n",
      "The expit function is 1/(1+exp(-F)), where F is \n",
      "F = 0.19 + (1.26 * \u001b[1mmean radius\u001b[0m) + (-0.05 * \u001b[1mmean texture\u001b[0m) + (0.08 * \u001b[1mmean perimeter\u001b[0m) + (0.01 * \u001b[1mmean area\u001b[0m) + (-0.27 * \u001b[1mmean smoothness\u001b[0m) + (0.05 * \u001b[1mmean compactness\u001b[0m) + (-0.03 * \u001b[1mmean concavity\u001b[0m) + (-0.02 * \u001b[1mmean concave points\u001b[0m) + (1.08 * \u001b[1mmean symmetry\u001b[0m) + (-0.11 * \u001b[1mmean fractal dimension\u001b[0m) + (-0.14 * \u001b[1mradius error\u001b[0m) + (-0.03 * \u001b[1mtexture error\u001b[0m) + (-0.42 * \u001b[1mperimeter error\u001b[0m)\n",
      "\n",
      "With the fewer but most relevant features: correctly guessed 428 out of 456 cases ( 94.0 % efficiency ), not bad!!! \n"
     ]
    }
   ],
   "source": [
    "print ('same code as above but with the relevant features:',relevant_features)\n",
    "max_iterations = 30\n",
    "classifier = LogisticRegression (random_state=0 , solver='liblinear', penalty='l2', n_jobs=1, max_iter=max_iterations )\n",
    "classifier.fit(train[relevant_features],train['type'])\n",
    "print(f'\\niterations to converge = {classifier.n_iter_[0]}  \\nintercept = {classifier.intercept_[0]} \\ncoefficients = {list(classifier.coef_[0])} \\n')\n",
    "print_sigmoid_function(classifier)\n",
    "pred = classifier.predict(test[relevant_features])\n",
    "correct = 0\n",
    "for prediction , real  in zip(pred, test['type']):\n",
    "    if prediction == real:\n",
    "        correct += 1\n",
    "print('\\nWith the fewer but most relevant features: correctly guessed', correct, 'out of', len(pred), 'cases (', 100*round(correct/len(pred),2),'% efficiency ), not bad!!! ')\n",
    "#print('\\npredictions\\n',list(pred))\n",
    "#print('\\nactual results\\n',list(test['type']))\n"
   ]
  },
  {
   "cell_type": "code",
   "execution_count": 219,
   "metadata": {},
   "outputs": [
    {
     "name": "stdout",
     "output_type": "stream",
     "text": [
      "parameter grid search\n",
      "columns : gamma parameter\n",
      "rows : C parameter\n",
      "\n"
     ]
    },
    {
     "data": {
      "text/html": [
       "<div>\n",
       "<style scoped>\n",
       "    .dataframe tbody tr th:only-of-type {\n",
       "        vertical-align: middle;\n",
       "    }\n",
       "\n",
       "    .dataframe tbody tr th {\n",
       "        vertical-align: top;\n",
       "    }\n",
       "\n",
       "    .dataframe thead th {\n",
       "        text-align: right;\n",
       "    }\n",
       "</style>\n",
       "<table border=\"1\" class=\"dataframe\">\n",
       "  <thead>\n",
       "    <tr style=\"text-align: right;\">\n",
       "      <th></th>\n",
       "      <th>1e-06</th>\n",
       "      <th>1e-05</th>\n",
       "      <th>0.0001</th>\n",
       "      <th>0.001</th>\n",
       "      <th>0.01</th>\n",
       "    </tr>\n",
       "  </thead>\n",
       "  <tbody>\n",
       "    <tr>\n",
       "      <th>1</th>\n",
       "      <td>0.9023</td>\n",
       "      <td>0.9088</td>\n",
       "      <td>0.9368</td>\n",
       "      <td>0.9079</td>\n",
       "      <td>0.500</td>\n",
       "    </tr>\n",
       "    <tr>\n",
       "      <th>53</th>\n",
       "      <td>0.9392</td>\n",
       "      <td>0.9368</td>\n",
       "      <td>0.9147</td>\n",
       "      <td>0.9144</td>\n",
       "      <td>0.513</td>\n",
       "    </tr>\n",
       "    <tr>\n",
       "      <th>106</th>\n",
       "      <td>0.9522</td>\n",
       "      <td>0.9433</td>\n",
       "      <td>0.9103</td>\n",
       "      <td>0.9144</td>\n",
       "      <td>0.513</td>\n",
       "    </tr>\n",
       "    <tr>\n",
       "      <th>158</th>\n",
       "      <td>0.9522</td>\n",
       "      <td>0.9389</td>\n",
       "      <td>0.9103</td>\n",
       "      <td>0.9144</td>\n",
       "      <td>0.513</td>\n",
       "    </tr>\n",
       "    <tr>\n",
       "      <th>211</th>\n",
       "      <td>0.9522</td>\n",
       "      <td>0.9345</td>\n",
       "      <td>0.9103</td>\n",
       "      <td>0.9144</td>\n",
       "      <td>0.513</td>\n",
       "    </tr>\n",
       "    <tr>\n",
       "      <th>263</th>\n",
       "      <td>0.9522</td>\n",
       "      <td>0.9345</td>\n",
       "      <td>0.9103</td>\n",
       "      <td>0.9144</td>\n",
       "      <td>0.513</td>\n",
       "    </tr>\n",
       "    <tr>\n",
       "      <th>316</th>\n",
       "      <td>0.9522</td>\n",
       "      <td>0.9345</td>\n",
       "      <td>0.9103</td>\n",
       "      <td>0.9144</td>\n",
       "      <td>0.513</td>\n",
       "    </tr>\n",
       "    <tr>\n",
       "      <th>369</th>\n",
       "      <td>0.9522</td>\n",
       "      <td>0.9345</td>\n",
       "      <td>0.9103</td>\n",
       "      <td>0.9144</td>\n",
       "      <td>0.513</td>\n",
       "    </tr>\n",
       "    <tr>\n",
       "      <th>421</th>\n",
       "      <td>0.9522</td>\n",
       "      <td>0.9345</td>\n",
       "      <td>0.9103</td>\n",
       "      <td>0.9144</td>\n",
       "      <td>0.513</td>\n",
       "    </tr>\n",
       "    <tr>\n",
       "      <th>474</th>\n",
       "      <td>0.9522</td>\n",
       "      <td>0.9345</td>\n",
       "      <td>0.9103</td>\n",
       "      <td>0.9144</td>\n",
       "      <td>0.513</td>\n",
       "    </tr>\n",
       "    <tr>\n",
       "      <th>526</th>\n",
       "      <td>0.9522</td>\n",
       "      <td>0.9345</td>\n",
       "      <td>0.9103</td>\n",
       "      <td>0.9144</td>\n",
       "      <td>0.513</td>\n",
       "    </tr>\n",
       "    <tr>\n",
       "      <th>579</th>\n",
       "      <td>0.9457</td>\n",
       "      <td>0.9345</td>\n",
       "      <td>0.9103</td>\n",
       "      <td>0.9144</td>\n",
       "      <td>0.513</td>\n",
       "    </tr>\n",
       "    <tr>\n",
       "      <th>631</th>\n",
       "      <td>0.9457</td>\n",
       "      <td>0.9345</td>\n",
       "      <td>0.9103</td>\n",
       "      <td>0.9144</td>\n",
       "      <td>0.513</td>\n",
       "    </tr>\n",
       "    <tr>\n",
       "      <th>684</th>\n",
       "      <td>0.9457</td>\n",
       "      <td>0.9345</td>\n",
       "      <td>0.9103</td>\n",
       "      <td>0.9144</td>\n",
       "      <td>0.513</td>\n",
       "    </tr>\n",
       "    <tr>\n",
       "      <th>737</th>\n",
       "      <td>0.9457</td>\n",
       "      <td>0.9345</td>\n",
       "      <td>0.9103</td>\n",
       "      <td>0.9144</td>\n",
       "      <td>0.513</td>\n",
       "    </tr>\n",
       "    <tr>\n",
       "      <th>789</th>\n",
       "      <td>0.9457</td>\n",
       "      <td>0.9410</td>\n",
       "      <td>0.9103</td>\n",
       "      <td>0.9144</td>\n",
       "      <td>0.513</td>\n",
       "    </tr>\n",
       "    <tr>\n",
       "      <th>842</th>\n",
       "      <td>0.9457</td>\n",
       "      <td>0.9410</td>\n",
       "      <td>0.9103</td>\n",
       "      <td>0.9144</td>\n",
       "      <td>0.513</td>\n",
       "    </tr>\n",
       "    <tr>\n",
       "      <th>894</th>\n",
       "      <td>0.9457</td>\n",
       "      <td>0.9345</td>\n",
       "      <td>0.9103</td>\n",
       "      <td>0.9144</td>\n",
       "      <td>0.513</td>\n",
       "    </tr>\n",
       "    <tr>\n",
       "      <th>947</th>\n",
       "      <td>0.9457</td>\n",
       "      <td>0.9280</td>\n",
       "      <td>0.9103</td>\n",
       "      <td>0.9144</td>\n",
       "      <td>0.513</td>\n",
       "    </tr>\n",
       "    <tr>\n",
       "      <th>1000</th>\n",
       "      <td>0.9457</td>\n",
       "      <td>0.9215</td>\n",
       "      <td>0.9103</td>\n",
       "      <td>0.9144</td>\n",
       "      <td>0.513</td>\n",
       "    </tr>\n",
       "  </tbody>\n",
       "</table>\n",
       "</div>"
      ],
      "text/plain": [
       "       1e-06   1e-05  0.0001   0.001   0.01\n",
       "1     0.9023  0.9088  0.9368  0.9079  0.500\n",
       "53    0.9392  0.9368  0.9147  0.9144  0.513\n",
       "106   0.9522  0.9433  0.9103  0.9144  0.513\n",
       "158   0.9522  0.9389  0.9103  0.9144  0.513\n",
       "211   0.9522  0.9345  0.9103  0.9144  0.513\n",
       "263   0.9522  0.9345  0.9103  0.9144  0.513\n",
       "316   0.9522  0.9345  0.9103  0.9144  0.513\n",
       "369   0.9522  0.9345  0.9103  0.9144  0.513\n",
       "421   0.9522  0.9345  0.9103  0.9144  0.513\n",
       "474   0.9522  0.9345  0.9103  0.9144  0.513\n",
       "526   0.9522  0.9345  0.9103  0.9144  0.513\n",
       "579   0.9457  0.9345  0.9103  0.9144  0.513\n",
       "631   0.9457  0.9345  0.9103  0.9144  0.513\n",
       "684   0.9457  0.9345  0.9103  0.9144  0.513\n",
       "737   0.9457  0.9345  0.9103  0.9144  0.513\n",
       "789   0.9457  0.9410  0.9103  0.9144  0.513\n",
       "842   0.9457  0.9410  0.9103  0.9144  0.513\n",
       "894   0.9457  0.9345  0.9103  0.9144  0.513\n",
       "947   0.9457  0.9280  0.9103  0.9144  0.513\n",
       "1000  0.9457  0.9215  0.9103  0.9144  0.513"
      ]
     },
     "execution_count": 219,
     "metadata": {},
     "output_type": "execute_result"
    }
   ],
   "source": [
    "import pandas as pd\n",
    "from sklearn import svm\n",
    "from sklearn.metrics import balanced_accuracy_score \n",
    "\n",
    "percentage_of_samples_used_for_testing = 1/3\n",
    "train, test = train_test_split(cancer_data, test_size = percentage_of_samples_used_for_testing)\n",
    "\n",
    "input_features = relevant_features\n",
    "\n",
    "C = np.linspace(1,1000,20,dtype=int)\n",
    "gamma = [0.000001,0.00001,0.0001,0.001,0.01]\n",
    "index = C\n",
    "df = pd.DataFrame(index=index)\n",
    "\n",
    "for g in gamma :\n",
    "    column = []\n",
    "    for c,n in zip(C,range(len(C))):\n",
    "        classifier = svm.SVC(kernel ='rbf', gamma=g, C=c)\n",
    "        classifier.fit(train[input_features], train['type'])\n",
    "        svc_predictions = classifier.predict(test[input_features])\n",
    "        svc_a = balanced_accuracy_score(test['type'],svc_predictions)\n",
    "        column.append(round(svc_a,4)) \n",
    "    df[str(g)] = column\n",
    "print('parameter grid search\\ncolumns : gamma parameter\\nrows : C parameter\\n')\n",
    "df"
   ]
  },
  {
   "cell_type": "code",
   "execution_count": 218,
   "metadata": {},
   "outputs": [
    {
     "name": "stdout",
     "output_type": "stream",
     "text": [
      "1 0.8839946608421307\n",
      "2 0.8914573474092949\n",
      "3 0.8839946608421307\n",
      "4 0.8839946608421307\n",
      "5 0.8839946608421307\n",
      "6 0.8880597014925373\n"
     ]
    }
   ],
   "source": [
    "percentage_of_samples_used_for_testing = 1/3\n",
    "train, test = train_test_split(cancer_data, test_size = percentage_of_samples_used_for_testing)\n",
    "\n",
    "for deg in[1,2,3,4,5,6]:\n",
    "    classifier = svm.SVC(kernel ='poly',degree=deg)\n",
    "    classifier.fit(train[input_features], train['type'])\n",
    "    svc_predictions = classifier.predict(test[input_features])\n",
    "    svc_a = balanced_accuracy_score(test['type'],svc_predictions)\n",
    "    print(deg, svc_a)\n"
   ]
  },
  {
   "cell_type": "code",
   "execution_count": 199,
   "metadata": {},
   "outputs": [],
   "source": [
    "df = pd.DataFrame()"
   ]
  },
  {
   "cell_type": "code",
   "execution_count": 76,
   "metadata": {},
   "outputs": [
    {
     "data": {
      "text/html": [
       "<div>\n",
       "<style scoped>\n",
       "    .dataframe tbody tr th:only-of-type {\n",
       "        vertical-align: middle;\n",
       "    }\n",
       "\n",
       "    .dataframe tbody tr th {\n",
       "        vertical-align: top;\n",
       "    }\n",
       "\n",
       "    .dataframe thead th {\n",
       "        text-align: right;\n",
       "    }\n",
       "</style>\n",
       "<table border=\"1\" class=\"dataframe\">\n",
       "  <thead>\n",
       "    <tr style=\"text-align: right;\">\n",
       "      <th></th>\n",
       "    </tr>\n",
       "  </thead>\n",
       "  <tbody>\n",
       "  </tbody>\n",
       "</table>\n",
       "</div>"
      ],
      "text/plain": [
       "Empty DataFrame\n",
       "Columns: []\n",
       "Index: []"
      ]
     },
     "execution_count": 76,
     "metadata": {},
     "output_type": "execute_result"
    }
   ],
   "source": [
    "df"
   ]
  },
  {
   "cell_type": "code",
   "execution_count": null,
   "metadata": {},
   "outputs": [],
   "source": []
  }
 ],
 "metadata": {
  "kernelspec": {
   "display_name": "Python 3",
   "language": "python",
   "name": "python3"
  },
  "language_info": {
   "codemirror_mode": {
    "name": "ipython",
    "version": 3
   },
   "file_extension": ".py",
   "mimetype": "text/x-python",
   "name": "python",
   "nbconvert_exporter": "python",
   "pygments_lexer": "ipython3",
   "version": "3.7.10"
  }
 },
 "nbformat": 4,
 "nbformat_minor": 2
}
