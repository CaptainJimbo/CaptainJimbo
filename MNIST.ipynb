{
 "cells": [
  {
   "cell_type": "markdown",
   "id": "advisory-track",
   "metadata": {},
   "source": [
    "# This is  the mnist dataset"
   ]
  },
  {
   "cell_type": "code",
   "execution_count": 1,
   "id": "assisted-hobby",
   "metadata": {},
   "outputs": [],
   "source": [
    "from sklearn.datasets import fetch_openml \n",
    "from sklearn.linear_model import SGDClassifier\n",
    "import matplotlib.pyplot as plt\n",
    "import os # to beep me when cells are executed\n",
    "import pandas as pd\n",
    "import numpy as np\n",
    "from sklearn.model_selection import train_test_split\n",
    "import random"
   ]
  },
  {
   "cell_type": "code",
   "execution_count": 2,
   "id": "conceptual-earth",
   "metadata": {},
   "outputs": [],
   "source": [
    "mnist = fetch_openml('mnist_784', version=1)"
   ]
  },
  {
   "cell_type": "code",
   "execution_count": 59,
   "id": "streaming-revolution",
   "metadata": {},
   "outputs": [
    {
     "name": "stdout",
     "output_type": "stream",
     "text": [
      "The mnist file is a dictionary type file with keys ['data', 'target', 'frame', 'categories', 'feature_names', 'target_names', 'DESCR', 'details', 'url']\n"
     ]
    }
   ],
   "source": [
    "print('The mnist file is a dictionary type file with keys',list(mnist.keys()))"
   ]
  },
  {
   "cell_type": "code",
   "execution_count": 60,
   "id": "looking-factory",
   "metadata": {
    "scrolled": false
   },
   "outputs": [
    {
     "name": "stdout",
     "output_type": "stream",
     "text": [
      "File description: using key ' DESCR '\n",
      "\n",
      " **Author**: Yann LeCun, Corinna Cortes, Christopher J.C. Burges  \n",
      "**Source**: [MNIST Website](http://yann.lecun.com/exdb/mnist/) - Date unknown  \n",
      "**Please cite**:  \n",
      "\n",
      "The MNIST database of handwritten digits with 784 features, raw data available at: http://yann.lecun.com/exdb/mnist/. It can be split in a training set of the first 60,000 examples, and a test set of 10,000 examples  \n",
      "\n",
      "It is a subset of a larger set available from NIST. The digits have been size-normalized and centered in a fixed-size image. It is a good database for people who want to try learning techniques and pattern recognition methods on real-world data while spending minimal efforts on preprocessing and formatting. The original black and white (bilevel) images from NIST were size normalized to fit in a 20x20 pixel box while preserving their aspect ratio. The resulting images contain grey levels as a result of the anti-aliasing technique used by the normalization algorithm. the images were centered in a 28x28 image by computing the center of mass of the pixels, and translating the image so as to position this point at the center of the 28x28 field.  \n",
      "\n",
      "With some classification methods (particularly template-based methods, such as SVM and K-nearest neighbors), the error rate improves when the digits are centered by bounding box rather than center of mass. If you do this kind of pre-processing, you should report it in your publications. The MNIST database was constructed from NIST's NIST originally designated SD-3 as their training set and SD-1 as their test set. However, SD-3 is much cleaner and easier to recognize than SD-1. The reason for this can be found on the fact that SD-3 was collected among Census Bureau employees, while SD-1 was collected among high-school students. Drawing sensible conclusions from learning experiments requires that the result be independent of the choice of training set and test among the complete set of samples. Therefore it was necessary to build a new database by mixing NIST's datasets.  \n",
      "\n",
      "The MNIST training set is composed of 30,000 patterns from SD-3 and 30,000 patterns from SD-1. Our test set was composed of 5,000 patterns from SD-3 and 5,000 patterns from SD-1. The 60,000 pattern training set contained examples from approximately 250 writers. We made sure that the sets of writers of the training set and test set were disjoint. SD-1 contains 58,527 digit images written by 500 different writers. In contrast to SD-3, where blocks of data from each writer appeared in sequence, the data in SD-1 is scrambled. Writer identities for SD-1 is available and we used this information to unscramble the writers. We then split SD-1 in two: characters written by the first 250 writers went into our new training set. The remaining 250 writers were placed in our test set. Thus we had two sets with nearly 30,000 examples each. The new training set was completed with enough examples from SD-3, starting at pattern # 0, to make a full set of 60,000 training patterns. Similarly, the new test set was completed with SD-3 examples starting at pattern # 35,000 to make a full set with 60,000 test patterns. Only a subset of 10,000 test images (5,000 from SD-1 and 5,000 from SD-3) is available on this site. The full 60,000 sample training set is available.\n",
      "\n",
      "Downloaded from openml.org.\n"
     ]
    }
   ],
   "source": [
    "print(\"File description: using key '\", list(mnist.keys())[6],\"'\\n\\n\",mnist[list(mnist.keys())[6]])"
   ]
  },
  {
   "cell_type": "code",
   "execution_count": 64,
   "id": "bottom-novelty",
   "metadata": {},
   "outputs": [
    {
     "name": "stdout",
     "output_type": "stream",
     "text": [
      "File details: using key ' details '\n",
      "\n",
      " {'id': '554', 'name': 'mnist_784', 'version': '1', 'description_version': '1', 'format': 'ARFF', 'creator': ['Yann LeCun', 'Corinna Cortes', 'Christopher J.C. Burges'], 'upload_date': '2014-09-29T03:28:38', 'language': 'English', 'licence': 'Public', 'url': 'https://old.openml.org/data/v1/download/52667/mnist_784.arff', 'file_id': '52667', 'default_target_attribute': 'class', 'tag': ['AzurePilot', 'OpenML-CC18', 'OpenML100', 'study_1', 'study_123', 'study_41', 'study_99', 'vision'], 'visibility': 'public', 'minio_url': 'http://openml1.win.tue.nl/dataset554/dataset_554.pq', 'status': 'active', 'processing_date': '2020-11-20 20:12:09', 'md5_checksum': '0298d579eb1b86163de7723944c7e495'}\n"
     ]
    }
   ],
   "source": [
    "print(\"File details: using key '\", list(mnist.keys())[7],\"'\\n\\n\",mnist[list(mnist.keys())[7]])"
   ]
  },
  {
   "cell_type": "markdown",
   "id": "bottom-papua",
   "metadata": {},
   "source": [
    "f = open(\"dict.txt\",\"w\")\n",
    "f.write( str(mnist) ) # write file\n",
    "f.close() # close file"
   ]
  },
  {
   "cell_type": "markdown",
   "id": "fuzzy-suicide",
   "metadata": {},
   "source": [
    "f = open(\"dict.txt\", \"r\")\n",
    "downloaded = f.read()"
   ]
  },
  {
   "cell_type": "code",
   "execution_count": 66,
   "id": "multiple-notion",
   "metadata": {},
   "outputs": [],
   "source": [
    "# assigning values to predictor and target variables  \n",
    "X, y = mnist.data, mnist.target # X=predictor, y=target"
   ]
  },
  {
   "cell_type": "markdown",
   "id": "ordered-shoulder",
   "metadata": {},
   "source": [
    "# I pick a random element, i.e. a 784 element array."
   ]
  },
  {
   "cell_type": "code",
   "execution_count": 67,
   "id": "hollow-lemon",
   "metadata": {},
   "outputs": [
    {
     "data": {
      "image/png": "[encoded data removed]",
      "text/plain": [
       "<Figure size 432x288 with 1 Axes>"
      ]
     },
     "metadata": {
      "needs_background": "light"
     },
     "output_type": "display_data"
    },
    {
     "name": "stdout",
     "output_type": "stream",
     "text": [
      "which is the number 7\n"
     ]
    }
   ],
   "source": [
    "import matplotlib as mpl\n",
    " \n",
    "rn = random.randrange(len(mnist.data))\n",
    "random_digit = X.loc[rn]\n",
    "random_digit_image = random_digit.values.reshape(28,28)\n",
    "plt.imshow(random_digit_image, cmap = mpl.cm.binary, interpolation=\"nearest\")\n",
    "plt.axis(\"off\")\n",
    "plt.show()\n",
    "print('which is the number',y.loc[rn])"
   ]
  },
  {
   "cell_type": "code",
   "execution_count": 68,
   "id": "communist-binding",
   "metadata": {},
   "outputs": [],
   "source": [
    "y = y.astype(np.uint8) #changes the variable type to uint8"
   ]
  },
  {
   "cell_type": "code",
   "execution_count": 69,
   "id": "international-taste",
   "metadata": {},
   "outputs": [],
   "source": [
    "X_train, X_test, y_train, y_test = train_test_split(X, y, test_size=0.15, random_state=42)"
   ]
  },
  {
   "cell_type": "code",
   "execution_count": 70,
   "id": "joint-cholesterol",
   "metadata": {},
   "outputs": [
    {
     "data": {
      "text/plain": [
       "1    7877\n",
       "7    7293\n",
       "3    7141\n",
       "2    6990\n",
       "9    6958\n",
       "0    6903\n",
       "6    6876\n",
       "8    6825\n",
       "4    6824\n",
       "5    6313\n",
       "Name: class, dtype: int64"
      ]
     },
     "execution_count": 70,
     "metadata": {},
     "output_type": "execute_result"
    }
   ],
   "source": [
    "y.value_counts()"
   ]
  },
  {
   "cell_type": "markdown",
   "id": "colored-fusion",
   "metadata": {},
   "source": [
    "# random stuff"
   ]
  },
  {
   "cell_type": "markdown",
   "id": "narrow-anger",
   "metadata": {},
   "source": [
    "y_train_dict = {}\n",
    "for n in range(0,10):\n",
    "    y_train_dict[str(n)] = (y_train == n)"
   ]
  },
  {
   "cell_type": "markdown",
   "id": "domestic-insulin",
   "metadata": {
    "scrolled": true
   },
   "source": [
    "import random\n",
    "from sklearn.linear_model import SGDClassifier\n",
    "random_number = random.randrange(0,len(X_test))\n",
    "random_index = X_test.index.values[random_number]\n",
    "#X_test.loc[random_index]\n",
    "#y_test.loc[random_index]\n",
    "sgd_cl_for = {}\n",
    "results = {}\n",
    "for n in range(0,10):\n",
    "    sgd_cl_for[str(n)] = SGDClassifier(random_state=42)\n",
    "    sgd_cl_for[str(n)].fit(X_train,y_train_dict[str(n)])\n",
    "    print(\"finished training with SGD classifier for number\",n)"
   ]
  },
  {
   "cell_type": "markdown",
   "id": "native-british",
   "metadata": {},
   "source": [
    "correct = 0\n",
    "counter = 0"
   ]
  },
  {
   "cell_type": "markdown",
   "id": "collected-covering",
   "metadata": {},
   "source": [
    "import random\n",
    "import pandas as pd\n",
    "\n",
    "random_number = random.randrange(0,len(X_test))\n",
    "random_index = X_test.index.values[random_number]\n",
    "results = pd.DataFrame()\n",
    "for n in range(0,10):\n",
    "    #print(sgd_cl_for[str(n)].predict([X_test.loc[random_index]]))\n",
    "    results[str(n)] = sgd_cl_for[str(n)].decision_function([X_test.loc[random_index]])\n",
    "\n",
    "print ('Decision function matrix\\n',results)\n",
    "#plt.imshow(random_digit_image, cmap = mpl.cm.binary, interpolation=\"nearest\")\n",
    "\n",
    "plt.imshow(X_test.loc[random_index].values.reshape(28,28),cmap=mpl.cm.binary)\n",
    "plt.axis('off')\n",
    "print(\"\\nFrom the training, it looks more like a\", results.values.argmax())\n",
    "counter = counter + 1\n",
    "if (results.values.argmax() == y_test.loc[random_index]):\n",
    "    correct = correct + 1\n",
    "accuracy = correct/counter\n",
    "print('\\naccuracy is', accuracy*100,'%')"
   ]
  },
  {
   "cell_type": "markdown",
   "id": "ranking-arlington",
   "metadata": {},
   "source": [
    "for m in range(0,1000):\n",
    "    random_number = random.randrange(0,len(X_test))\n",
    "    random_index = X_test.index.values[random_number]\n",
    "    results = pd.DataFrame()\n",
    "    for n in range(0,10):\n",
    "        #print(sgd_cl_for[str(n)].predict([X_test.loc[random_index]]))\n",
    "        results[str(n)] = sgd_cl_for[str(n)].decision_function([X_test.loc[random_index]])\n",
    "\n",
    "    print ('Decision function matrix\\n',results)\n",
    "    #plt.imshow(random_digit_image, cmap = mpl.cm.binary, interpolation=\"nearest\")\n",
    "\n",
    "    plt.imshow(X_test.loc[random_index].values.reshape(28,28),cmap=mpl.cm.binary)\n",
    "    plt.axis('off')\n",
    "    print(\"\\nFrom the training, it looks more like a\", results.values.argmax())\n",
    "    counter = counter + 1\n",
    "    if (results.values.argmax() == y_test.loc[random_index]):\n",
    "        correct = correct + 1\n",
    "    accuracy = correct/counter\n",
    "    print('\\naccuracy is', accuracy*100,'%')"
   ]
  },
  {
   "cell_type": "markdown",
   "id": "legitimate-words",
   "metadata": {},
   "source": [
    "import random\n",
    "random_number = random.randrange(0,len(X_test))\n",
    "random_index = X_test.index.values[random_number]\n",
    "print(sgd_cl.predict([X_test.loc[random_index]]),y_test.loc[random_index])\n",
    "sgd_cl.decision_function([X_test.loc[random_index]])"
   ]
  },
  {
   "cell_type": "markdown",
   "id": "frozen-brazil",
   "metadata": {},
   "source": [
    "from sklearn.metrics import balanced_accuracy_score\n",
    "y_true = [0, 1, 0, 0, 1, 0]\n",
    "y_pred = [0, 1, 0, 0, 0, 1]\n",
    "balanced_accuracy_score(y_true, y_pred)\n"
   ]
  },
  {
   "cell_type": "markdown",
   "id": "worse-macro",
   "metadata": {},
   "source": [
    "# end of random stuff"
   ]
  },
  {
   "cell_type": "markdown",
   "id": "treated-suicide",
   "metadata": {},
   "source": [
    "# Let's use sklearn multiclass calssification"
   ]
  },
  {
   "cell_type": "code",
   "execution_count": 71,
   "id": "serial-taste",
   "metadata": {},
   "outputs": [],
   "source": [
    "from sklearn.multiclass import OneVsOneClassifier\n",
    "from sklearn.metrics import balanced_accuracy_score"
   ]
  },
  {
   "cell_type": "markdown",
   "id": "compact-headset",
   "metadata": {},
   "source": [
    "# One Vs One Classifier"
   ]
  },
  {
   "cell_type": "code",
   "execution_count": 72,
   "id": "printable-boards",
   "metadata": {},
   "outputs": [
    {
     "data": {
      "text/plain": [
       "0"
      ]
     },
     "execution_count": 72,
     "metadata": {},
     "output_type": "execute_result"
    }
   ],
   "source": [
    "One_vs_One_clf = OneVsOneClassifier(SGDClassifier(random_state=42))\n",
    "One_vs_One_clf.fit(X_train,y_train)\n",
    "os.system(' say \"η εκπαίδευση του One versus One ολοκληρώθηκε\" ')"
   ]
  },
  {
   "cell_type": "code",
   "execution_count": 73,
   "id": "possible-tower",
   "metadata": {},
   "outputs": [
    {
     "name": "stdout",
     "output_type": "stream",
     "text": [
      "prediction: [0] \n",
      "real :  0\n"
     ]
    },
    {
     "data": {
      "image/png": "[encoded data removed]",
      "text/plain": [
       "<Figure size 432x288 with 1 Axes>"
      ]
     },
     "metadata": {
      "needs_background": "light"
     },
     "output_type": "display_data"
    },
    {
     "name": "stdout",
     "output_type": "stream",
     "text": [
      "decision function : [ 9.33333325 -0.33333325  5.33333252  2.66666723  1.66666733  7.33333304\n",
      "  8.33333314  3.66666712  2.66666693  3.66666724]\n"
     ]
    }
   ],
   "source": [
    "random_number = random.randrange(0,len(X_test))\n",
    "random_index = X_test.index.values[random_number]\n",
    "print('prediction:',One_vs_One_clf.predict([X_test.loc[random_index]]),'\\nreal : ',y_test.loc[random_index])\n",
    "One_vs_One_clf.decision_function([X_test.loc[random_index]])\n",
    "plt.imshow(X_test.loc[random_index].values.reshape(28,28),cmap=mpl.cm.binary)\n",
    "plt.axis('off')\n",
    "plt.show()\n",
    "print('decision function :',One_vs_One_clf.decision_function([X_test.loc[random_index]]).ravel())"
   ]
  },
  {
   "cell_type": "code",
   "execution_count": 74,
   "id": "narrow-sarah",
   "metadata": {
    "scrolled": true
   },
   "outputs": [
    {
     "data": {
      "text/plain": [
       "0"
      ]
     },
     "execution_count": 74,
     "metadata": {},
     "output_type": "execute_result"
    }
   ],
   "source": [
    "y_predictions = One_vs_One_clf.predict(X_test.values)\n",
    "os.system(' say \"δημιουργήθηκε ο πίνακας με τις προβλέψεις\" ')"
   ]
  },
  {
   "cell_type": "markdown",
   "id": "adopted-fairy",
   "metadata": {},
   "source": [
    "# Balanced accuracy score"
   ]
  },
  {
   "cell_type": "code",
   "execution_count": 75,
   "id": "architectural-diversity",
   "metadata": {
    "scrolled": true
   },
   "outputs": [
    {
     "name": "stdout",
     "output_type": "stream",
     "text": [
      "balanced accuracy is : 0.92\n"
     ]
    }
   ],
   "source": [
    "print('balanced accuracy is :', round(balanced_accuracy_score(y_test,y_predictions),2))"
   ]
  },
  {
   "cell_type": "markdown",
   "id": "sudden-settle",
   "metadata": {},
   "source": [
    "# Confusion matrix"
   ]
  },
  {
   "cell_type": "code",
   "execution_count": 76,
   "id": "viral-hands",
   "metadata": {},
   "outputs": [
    {
     "data": {
      "image/png": "[encoded data removed]",
      "text/plain": [
       "<Figure size 288x288 with 1 Axes>"
      ]
     },
     "metadata": {
      "needs_background": "light"
     },
     "output_type": "display_data"
    }
   ],
   "source": [
    "from sklearn.metrics import confusion_matrix\n",
    "cm = confusion_matrix(y_test,y_predictions)\n",
    "plt.matshow(cm,cmap=plt.cm.gray)#,figsize=(10,10))\n",
    "plt.xlabel('predictions')\n",
    "plt.ylabel('true')\n",
    "plt.show()"
   ]
  },
  {
   "cell_type": "code",
   "execution_count": 77,
   "id": "amazing-guinea",
   "metadata": {},
   "outputs": [],
   "source": [
    "cm\n",
    "row_sum = cm.sum(axis=1,keepdims=True)"
   ]
  },
  {
   "cell_type": "markdown",
   "id": "stylish-mobility",
   "metadata": {},
   "source": [
    "# Normalised Confusion matrix"
   ]
  },
  {
   "cell_type": "code",
   "execution_count": 78,
   "id": "above-neutral",
   "metadata": {
    "scrolled": true
   },
   "outputs": [
    {
     "data": {
      "image/png": "[encoded data removed]",
      "text/plain": [
       "<Figure size 288x288 with 1 Axes>"
      ]
     },
     "metadata": {
      "needs_background": "light"
     },
     "output_type": "display_data"
    }
   ],
   "source": [
    "normalised_cm = cm/row_sum\n",
    "np.fill_diagonal(normalised_cm,0)\n",
    "plt.matshow(normalised_cm,cmap=plt.cm.gray)#,figsize=(10,10))\n",
    "plt.xlabel('predictions')\n",
    "plt.ylabel('true')\n",
    "plt.show()"
   ]
  },
  {
   "cell_type": "markdown",
   "id": "pediatric-modem",
   "metadata": {},
   "source": [
    "# One can see here that:\n",
    "# - 3s, 6s and 8s get easily missclassified as 5s\n",
    "# - 5s get easily missclassified as 3s\n",
    "# - 9s get easily missclassified as 7s"
   ]
  },
  {
   "cell_type": "markdown",
   "id": "ruled-david",
   "metadata": {},
   "source": [
    "# Lets checkout 3s VS 5s"
   ]
  },
  {
   "cell_type": "markdown",
   "id": "reported-rebate",
   "metadata": {},
   "source": [
    "for i in range(0,10):\n",
    "    image = X_train.loc[index_3s[i]].values.reshape(28,28)\n",
    "    #plt.imshow(image, cmap = mpl.cm.binary, interpolation=\"nearest\")\n",
    "    #plt.axis(\"off\")\n",
    "    #plt.show()    "
   ]
  },
  {
   "cell_type": "markdown",
   "id": "returning-hurricane",
   "metadata": {},
   "source": [
    "plt.imshow(random_digit_image, cmap = mpl.cm.binary, interpolation=\"nearest\")\n",
    "plt.axis(\"off\")\n",
    "plt.show()\n",
    "print(y.loc[random])"
   ]
  },
  {
   "cell_type": "markdown",
   "id": "pleasant-princess",
   "metadata": {},
   "source": [
    "f = str(2)+str(24)\n",
    "plt.figure(figsize=(8,8))\n",
    "plt.subplot(221) ; plt.axis('off') ; plt.imshow(X_3s_as_5s[:1].values.reshape(28,28), cmap = mpl.cm.binary, interpolation=\"nearest\") \n",
    "plt.subplot(222) ; plt.axis('off') ; plt.imshow(X_3s_as_5s[:1].values.reshape(28,28), cmap = mpl.cm.binary, interpolation=\"nearest\") \n",
    "plt.subplot(223) ; plt.axis('off') ; plt.imshow(X_3s_as_5s[:1].values.reshape(28,28), cmap = mpl.cm.binary, interpolation=\"nearest\")\n",
    "plt.subplot(int(f)) ; plt.axis('off') ; plt.imshow(X_3s_as_5s[:1].values.reshape(28,28), cmap = mpl.cm.binary, interpolation=\"nearest\")\n",
    "plt.show()\n",
    "# equivalent but more general\n",
    "#ax1 = plt.subplot(2, 2, 1)\n",
    "#ax2 = plt.subplot(222, frameon=False)"
   ]
  },
  {
   "cell_type": "code",
   "execution_count": 79,
   "id": "twenty-rwanda",
   "metadata": {
    "scrolled": true
   },
   "outputs": [
    {
     "data": {
      "text/plain": [
       "array([8, 4, 8, ..., 2, 4, 4], dtype=uint8)"
      ]
     },
     "execution_count": 79,
     "metadata": {},
     "output_type": "execute_result"
    }
   ],
   "source": [
    "y_predictions\n"
   ]
  },
  {
   "cell_type": "code",
   "execution_count": 80,
   "id": "subjective-framing",
   "metadata": {},
   "outputs": [
    {
     "data": {
      "text/plain": [
       "46730    8\n",
       "48393    4\n",
       "41416    8\n",
       "34506    7\n",
       "43725    7\n",
       "        ..\n",
       "67628    3\n",
       "42728    9\n",
       "24612    2\n",
       "37000    4\n",
       "13856    4\n",
       "Length: 10500, dtype: uint8"
      ]
     },
     "execution_count": 80,
     "metadata": {},
     "output_type": "execute_result"
    }
   ],
   "source": [
    "y_preds = pd.Series(y_predictions, index = y_test.index.values)\n",
    "y_preds"
   ]
  },
  {
   "cell_type": "code",
   "execution_count": 82,
   "id": "cosmetic-estate",
   "metadata": {
    "scrolled": true
   },
   "outputs": [],
   "source": [
    "#y_test.tolist()\n",
    "X_3s_as_3s = X_test[ (y_test==3) & (y_preds==3) ]\n",
    "X_3s_as_5s = X_test[ (y_test==3) & (y_preds==5) ]\n",
    "X_5s_as_3s = X_test[ (y_test==5) & (y_preds==3) ]\n",
    "X_5s_as_5s = X_test[ (y_test==5) & (y_preds==5) ]"
   ]
  },
  {
   "cell_type": "code",
   "execution_count": 83,
   "id": "greater-vatican",
   "metadata": {
    "scrolled": false
   },
   "outputs": [
    {
     "data": {
      "image/png": "[encoded data removed]",
      "text/plain": [
       "<Figure size 432x288 with 25 Axes>"
      ]
     },
     "metadata": {
      "needs_background": "light"
     },
     "output_type": "display_data"
    }
   ],
   "source": [
    "#plt.figure(figsize=(8,8))\n",
    "def plot_digits(digits_df,number_of_rows):\n",
    "    while pow(number_of_rows,2)>len(digits_df):\n",
    "        number_of_rows -=1\n",
    "        print('not enough digits, reduced number of rows to',number_of_rows)\n",
    "    idx = digits_df.index.tolist()\n",
    "    number = pow(number_of_rows,2)\n",
    "    for n in range(1,number+1):\n",
    "        #coord = str(33)+str(n)\n",
    "        #print(coord)\n",
    "        plt.subplot(number_of_rows,number_of_rows,n)\n",
    "        plt.axis('off')\n",
    "        #print(digits_df)\n",
    "        plt.imshow(digits_df.loc[idx[n]].values.reshape(28,28), cmap = mpl.cm.binary, interpolation=\"nearest\" )\n",
    "        #print(digits_df[index[n]])\n",
    "plot_digits(X_3s_as_5s,5)"
   ]
  },
  {
   "cell_type": "code",
   "execution_count": 84,
   "id": "stopped-concentrate",
   "metadata": {},
   "outputs": [
    {
     "data": {
      "text/plain": [
       "array([4], dtype=uint8)"
      ]
     },
     "execution_count": 84,
     "metadata": {},
     "output_type": "execute_result"
    }
   ],
   "source": [
    "One_vs_One_clf.predict( [ X_test.loc[X_test.index[1]] ]  )"
   ]
  },
  {
   "cell_type": "code",
   "execution_count": 85,
   "id": "distinguished-metadata",
   "metadata": {
    "scrolled": false
   },
   "outputs": [
    {
     "name": "stdout",
     "output_type": "stream",
     "text": [
      "\n",
      "3s predicted as 5s\n"
     ]
    },
    {
     "data": {
      "image/png": "[encoded data removed]",
      "text/plain": [
       "<Figure size 216x216 with 25 Axes>"
      ]
     },
     "metadata": {
      "needs_background": "light"
     },
     "output_type": "display_data"
    },
    {
     "name": "stdout",
     "output_type": "stream",
     "text": [
      "\n",
      "3s predicted as 3s\n"
     ]
    },
    {
     "data": {
      "image/png": "[encoded data removed]",
      "text/plain": [
       "<Figure size 216x216 with 25 Axes>"
      ]
     },
     "metadata": {
      "needs_background": "light"
     },
     "output_type": "display_data"
    },
    {
     "name": "stdout",
     "output_type": "stream",
     "text": [
      "\n",
      "5s predicted as 3s\n"
     ]
    },
    {
     "data": {
      "image/png": "[encoded data removed]",
      "text/plain": [
       "<Figure size 216x216 with 25 Axes>"
      ]
     },
     "metadata": {
      "needs_background": "light"
     },
     "output_type": "display_data"
    },
    {
     "name": "stdout",
     "output_type": "stream",
     "text": [
      "\n",
      "5s predicted as 5s\n"
     ]
    },
    {
     "data": {
      "image/png": "[encoded data removed]",
      "text/plain": [
       "<Figure size 216x216 with 25 Axes>"
      ]
     },
     "metadata": {
      "needs_background": "light"
     },
     "output_type": "display_data"
    }
   ],
   "source": [
    "plt.figure(figsize=(3,3))\n",
    "print('\\n3s predicted as 5s')\n",
    "plot_digits(X_3s_as_5s,5)\n",
    "plt.show()\n",
    "\n",
    "plt.figure(figsize=(3,3))\n",
    "print('\\n3s predicted as 3s')\n",
    "plot_digits(X_3s_as_3s,5)\n",
    "plt.show()\n",
    "\n",
    "plt.figure(figsize=(3,3))\n",
    "print('\\n5s predicted as 3s')\n",
    "plot_digits(X_5s_as_3s,5)\n",
    "plt.show()\n",
    "\n",
    "plt.figure(figsize=(3,3))\n",
    "print('\\n5s predicted as 5s')\n",
    "plot_digits(X_5s_as_5s,5)\n",
    "plt.show()"
   ]
  },
  {
   "cell_type": "code",
   "execution_count": 86,
   "id": "confirmed-logic",
   "metadata": {},
   "outputs": [
    {
     "name": "stdout",
     "output_type": "stream",
     "text": [
      "One can see why the 3s are confused with the 5s and vice versa\n"
     ]
    }
   ],
   "source": [
    "print('One can see why the 3s are confused with the 5s and vice versa')"
   ]
  },
  {
   "cell_type": "markdown",
   "id": "first-albuquerque",
   "metadata": {},
   "source": [
    "# Lets the k neighbors classifier"
   ]
  },
  {
   "cell_type": "code",
   "execution_count": 87,
   "id": "exciting-picking",
   "metadata": {},
   "outputs": [],
   "source": [
    "from sklearn.neighbors import KNeighborsClassifier"
   ]
  },
  {
   "cell_type": "code",
   "execution_count": 88,
   "id": "billion-navigator",
   "metadata": {
    "scrolled": false
   },
   "outputs": [
    {
     "data": {
      "text/plain": [
       "KNeighborsClassifier()"
      ]
     },
     "execution_count": 88,
     "metadata": {},
     "output_type": "execute_result"
    }
   ],
   "source": [
    "neigh_clf = KNeighborsClassifier(n_neighbors=5, \n",
    "                                        weights='uniform',#'distance'\n",
    "                                        algorithm='auto', \n",
    "                                        leaf_size=30, \n",
    "                                        p=2, \n",
    "                                        metric='minkowski',\n",
    "                                        metric_params=None, \n",
    "                                        n_jobs=None)\n",
    "\n",
    "neigh_clf.fit(X_train,y_train)"
   ]
  },
  {
   "cell_type": "code",
   "execution_count": 89,
   "id": "rising-rouge",
   "metadata": {},
   "outputs": [],
   "source": [
    "y_predictions_KNN=neigh_clf.predict(X_test.values)"
   ]
  },
  {
   "cell_type": "code",
   "execution_count": 90,
   "id": "divine-murray",
   "metadata": {},
   "outputs": [
    {
     "name": "stdout",
     "output_type": "stream",
     "text": [
      "The balance accuracy for the KNN is 0.97\n"
     ]
    }
   ],
   "source": [
    "print('The balance accuracy for the KNN is',round(balanced_accuracy_score(y_test,y_predictions_KNN),2))"
   ]
  },
  {
   "cell_type": "code",
   "execution_count": 91,
   "id": "specific-humor",
   "metadata": {},
   "outputs": [
    {
     "data": {
      "image/png": "[encoded data removed]",
      "text/plain": [
       "<Figure size 288x288 with 1 Axes>"
      ]
     },
     "metadata": {
      "needs_background": "light"
     },
     "output_type": "display_data"
    }
   ],
   "source": [
    "cm_KNN = confusion_matrix(y_test,y_predictions_KNN)\n",
    "plt.matshow(cm_KNN,cmap=plt.cm.gray)#,figsize=(10,10))\n",
    "plt.xlabel('predictions')\n",
    "plt.ylabel('true')\n",
    "plt.show()"
   ]
  },
  {
   "cell_type": "code",
   "execution_count": 92,
   "id": "breeding-manhattan",
   "metadata": {},
   "outputs": [
    {
     "data": {
      "image/png": "[encoded data removed]",
      "text/plain": [
       "<Figure size 288x288 with 1 Axes>"
      ]
     },
     "metadata": {
      "needs_background": "light"
     },
     "output_type": "display_data"
    }
   ],
   "source": [
    "normalised_cm_KNN = cm_KNN/row_sum\n",
    "np.fill_diagonal(normalised_cm_KNN,0)\n",
    "plt.matshow(normalised_cm_KNN,cmap=plt.cm.gray)#,figsize=(10,10))\n",
    "plt.xlabel('predictions')\n",
    "plt.ylabel('true')\n",
    "plt.show()"
   ]
  },
  {
   "cell_type": "code",
   "execution_count": 93,
   "id": "numeric-scholar",
   "metadata": {},
   "outputs": [
    {
     "data": {
      "text/plain": [
       "array([[0.        , 0.        , 0.00096618, 0.        , 0.        ,\n",
       "        0.        , 0.00193237, 0.00096618, 0.00096618, 0.        ],\n",
       "       [0.        , 0.        , 0.00082988, 0.        , 0.00082988,\n",
       "        0.00082988, 0.        , 0.00082988, 0.        , 0.00082988],\n",
       "       [0.00588813, 0.01373896, 0.        , 0.00098135, 0.00098135,\n",
       "        0.00098135, 0.00098135, 0.0107949 , 0.00294406, 0.        ],\n",
       "       [0.        , 0.00092507, 0.01017576, 0.        , 0.00092507,\n",
       "        0.00462535, 0.00092507, 0.00462535, 0.00277521, 0.00647549],\n",
       "       [0.00206612, 0.00826446, 0.00103306, 0.        , 0.        ,\n",
       "        0.        , 0.00206612, 0.00206612, 0.00103306, 0.01756198],\n",
       "       [0.00103093, 0.00412371, 0.        , 0.01649485, 0.00206186,\n",
       "        0.        , 0.01237113, 0.        , 0.        , 0.00103093],\n",
       "       [0.0049554 , 0.00099108, 0.        , 0.        , 0.00297324,\n",
       "        0.00594648, 0.        , 0.        , 0.        , 0.        ],\n",
       "       [0.        , 0.01531532, 0.0036036 , 0.        , 0.0018018 ,\n",
       "        0.        , 0.        , 0.        , 0.        , 0.00540541],\n",
       "       [0.00295276, 0.00984252, 0.00393701, 0.01968504, 0.0019685 ,\n",
       "        0.01574803, 0.00492126, 0.00984252, 0.        , 0.00787402],\n",
       "       [0.00551978, 0.00367985, 0.        , 0.00735971, 0.01195952,\n",
       "        0.        , 0.        , 0.01195952, 0.00091996, 0.        ]])"
      ]
     },
     "execution_count": 93,
     "metadata": {},
     "output_type": "execute_result"
    }
   ],
   "source": [
    "normalised_cm_KNN"
   ]
  },
  {
   "cell_type": "code",
   "execution_count": 94,
   "id": "finnish-hungarian",
   "metadata": {},
   "outputs": [
    {
     "data": {
      "text/plain": [
       "array([8, 4, 8, ..., 2, 4, 4], dtype=uint8)"
      ]
     },
     "execution_count": 94,
     "metadata": {},
     "output_type": "execute_result"
    }
   ],
   "source": [
    "y_predictions_KNN"
   ]
  },
  {
   "cell_type": "code",
   "execution_count": 95,
   "id": "explicit-hawaii",
   "metadata": {},
   "outputs": [],
   "source": [
    "y_preds = pd.Series(y_predictions_KNN, index = y_test.index.values)\n",
    "\n"
   ]
  },
  {
   "cell_type": "code",
   "execution_count": 96,
   "id": "proud-imperial",
   "metadata": {},
   "outputs": [
    {
     "name": "stdout",
     "output_type": "stream",
     "text": [
      "not enough digits, reduced number of rows to 4\n",
      "not enough digits, reduced number of rows to 3\n",
      "not enough digits, reduced number of rows to 2\n"
     ]
    },
    {
     "data": {
      "image/png": "[encoded data removed]",
      "text/plain": [
       "<Figure size 432x288 with 4 Axes>"
      ]
     },
     "metadata": {
      "needs_background": "light"
     },
     "output_type": "display_data"
    }
   ],
   "source": [
    "#y_test.tolist()\n",
    "X_3s_as_3s = X_test[ (y_test==3) & (y_preds==3) ]\n",
    "X_3s_as_5s = X_test[ (y_test==3) & (y_preds==5) ]\n",
    "X_5s_as_3s = X_test[ (y_test==5) & (y_preds==3) ]\n",
    "X_5s_as_5s = X_test[ (y_test==5) & (y_preds==5) ]\n",
    "\n",
    "#plt.figure(figsize=(8,8))\n",
    "def plot_digits(digits_df,number_of_rows):\n",
    "    while pow(number_of_rows,2)>len(digits_df):\n",
    "        number_of_rows -=1\n",
    "        print('not enough digits, reduced number of rows to',number_of_rows)\n",
    "    idx = digits_df.index.tolist()\n",
    "    number = pow(number_of_rows,2)\n",
    "    for n in range(1,number+1):\n",
    "        #coord = str(33)+str(n)\n",
    "        #print(coord)\n",
    "        plt.subplot(number_of_rows,number_of_rows,n)\n",
    "        plt.axis('off')\n",
    "        #print(digits_df)\n",
    "        plt.imshow(digits_df.loc[idx[n]].values.reshape(28,28), cmap = mpl.cm.binary, interpolation=\"nearest\" )\n",
    "        #print(digits_df[index[n]])\n",
    "plot_digits(X_3s_as_5s,5)"
   ]
  },
  {
   "cell_type": "code",
   "execution_count": 97,
   "id": "stuck-relations",
   "metadata": {},
   "outputs": [
    {
     "name": "stdout",
     "output_type": "stream",
     "text": [
      "\n",
      "3s predicted as 5s\n",
      "not enough digits, reduced number of rows to 2\n"
     ]
    },
    {
     "data": {
      "image/png": "[encoded data removed]",
      "text/plain": [
       "<Figure size 216x216 with 4 Axes>"
      ]
     },
     "metadata": {
      "needs_background": "light"
     },
     "output_type": "display_data"
    },
    {
     "name": "stdout",
     "output_type": "stream",
     "text": [
      "\n",
      "3s predicted as 3s\n"
     ]
    },
    {
     "data": {
      "image/png": "[encoded data removed]",
      "text/plain": [
       "<Figure size 216x216 with 25 Axes>"
      ]
     },
     "metadata": {
      "needs_background": "light"
     },
     "output_type": "display_data"
    },
    {
     "name": "stdout",
     "output_type": "stream",
     "text": [
      "\n",
      "5s predicted as 3s\n"
     ]
    },
    {
     "data": {
      "image/png": "[encoded data removed]",
      "text/plain": [
       "<Figure size 216x216 with 9 Axes>"
      ]
     },
     "metadata": {
      "needs_background": "light"
     },
     "output_type": "display_data"
    },
    {
     "name": "stdout",
     "output_type": "stream",
     "text": [
      "\n",
      "5s predicted as 5s\n"
     ]
    },
    {
     "data": {
      "image/png": "[encoded data removed]",
      "text/plain": [
       "<Figure size 216x216 with 25 Axes>"
      ]
     },
     "metadata": {
      "needs_background": "light"
     },
     "output_type": "display_data"
    }
   ],
   "source": [
    "plt.figure(figsize=(3,3))\n",
    "print('\\n3s predicted as 5s')\n",
    "plot_digits(X_3s_as_5s,3)\n",
    "plt.show()\n",
    "\n",
    "plt.figure(figsize=(3,3))\n",
    "print('\\n3s predicted as 3s')\n",
    "plot_digits(X_3s_as_3s,5)\n",
    "plt.show()\n",
    "\n",
    "plt.figure(figsize=(3,3))\n",
    "print('\\n5s predicted as 3s')\n",
    "plot_digits(X_5s_as_3s,3)\n",
    "plt.show()\n",
    "\n",
    "plt.figure(figsize=(3,3))\n",
    "print('\\n5s predicted as 5s')\n",
    "plot_digits(X_5s_as_5s,5)\n",
    "plt.show()"
   ]
  },
  {
   "cell_type": "code",
   "execution_count": 98,
   "id": "starting-nerve",
   "metadata": {},
   "outputs": [
    {
     "data": {
      "text/plain": [
       "((1047, 784), (5, 784), (16, 784), (934, 784))"
      ]
     },
     "execution_count": 98,
     "metadata": {},
     "output_type": "execute_result"
    }
   ],
   "source": [
    "X_3s_as_3s.shape, X_3s_as_5s.shape, X_5s_as_3s.shape, X_5s_as_5s.shape\n",
    "\n"
   ]
  },
  {
   "cell_type": "code",
   "execution_count": 99,
   "id": "renewable-accommodation",
   "metadata": {},
   "outputs": [],
   "source": [
    "from sklearn.model_selection import GridSearchCV"
   ]
  },
  {
   "cell_type": "markdown",
   "id": "coral-soldier",
   "metadata": {},
   "source": [
    "help(GridSearchCV)"
   ]
  },
  {
   "cell_type": "markdown",
   "id": "bound-madrid",
   "metadata": {},
   "source": [
    "neigh_clf = KNeighborsClassifier(n_neighbors=4, \n",
    "                                        weights='distance',#,'uniform'\n",
    "                                        algorithm='auto', \n",
    "                                        leaf_size=30, \n",
    "                                        p=2, \n",
    "                                        metric='minkowski',\n",
    "                                        metric_params=None, \n",
    "                                        n_jobs=1)\n",
    "\n",
    "neigh_clf.fit(X_train,y_train)"
   ]
  },
  {
   "cell_type": "code",
   "execution_count": 100,
   "id": "virgin-short",
   "metadata": {},
   "outputs": [],
   "source": [
    "parameter_space = {'n_neighbors':[1,2,3,4,5], 'p':[1, 2], 'weights':['uniform','distance']}\n",
    "gridsearch = GridSearchCV(KNeighborsClassifier(),param_grid = parameter_space, scoring ='balanced_accuracy')"
   ]
  },
  {
   "cell_type": "code",
   "execution_count": null,
   "id": "bigger-suspect",
   "metadata": {},
   "outputs": [],
   "source": []
  },
  {
   "cell_type": "markdown",
   "id": "irish-improvement",
   "metadata": {},
   "source": [
    "gridsearch.fit(X_train[:10000],y_train[:10000])\n",
    "os.system(' say \"βελτιστοποίηση παραμέτρων ολοκληρώθηκε\" ')\n",
    "\n",
    "#print(gridsearch.best_params_)\n",
    "print(gridsearch.best_params_)"
   ]
  },
  {
   "cell_type": "markdown",
   "id": "higher-scout",
   "metadata": {},
   "source": [
    "# Lets plug the best hyperparameters"
   ]
  },
  {
   "cell_type": "code",
   "execution_count": 102,
   "id": "authorized-asset",
   "metadata": {},
   "outputs": [
    {
     "data": {
      "text/plain": [
       "0"
      ]
     },
     "execution_count": 102,
     "metadata": {},
     "output_type": "execute_result"
    }
   ],
   "source": [
    "neigh_clf = KNeighborsClassifier(n_neighbors=4, \n",
    "                                        weights='distance',#,'uniform'\n",
    "                                        algorithm='auto', \n",
    "                                        leaf_size=30, \n",
    "                                        p=2, \n",
    "                                        metric='minkowski',\n",
    "                                        metric_params=None, \n",
    "                                        n_jobs=1)\n",
    "\n",
    "neigh_clf.fit(X_train,y_train)\n",
    "os.system(' say \" κάππα γείτονες ολοκληρώθηκαν\" ')"
   ]
  },
  {
   "cell_type": "code",
   "execution_count": 103,
   "id": "chemical-laptop",
   "metadata": {},
   "outputs": [
    {
     "data": {
      "text/plain": [
       "0"
      ]
     },
     "execution_count": 103,
     "metadata": {},
     "output_type": "execute_result"
    }
   ],
   "source": [
    "y_predictions_KNN=neigh_clf.predict(X_test.values)\n",
    "\n",
    "os.system(' say \"δημιουργήθηκε ο πίνακας με τις προβλέψεις\" ')"
   ]
  },
  {
   "cell_type": "code",
   "execution_count": 104,
   "id": "removed-racing",
   "metadata": {},
   "outputs": [
    {
     "name": "stdout",
     "output_type": "stream",
     "text": [
      "balanced accuracy is 0.97\n"
     ]
    }
   ],
   "source": [
    "print('balanced accuracy is', round(balanced_accuracy_score(y_test,y_predictions_KNN),2))"
   ]
  },
  {
   "cell_type": "markdown",
   "id": "chinese-rotation",
   "metadata": {},
   "source": [
    "from sklearn.metrics import SCORERS\n",
    "SCORERS.keys()"
   ]
  },
  {
   "cell_type": "code",
   "execution_count": null,
   "id": "cellular-retrieval",
   "metadata": {},
   "outputs": [],
   "source": []
  }
 ],
 "metadata": {
  "kernelspec": {
   "display_name": "Python 3",
   "language": "python",
   "name": "python3"
  },
  "language_info": {
   "codemirror_mode": {
    "name": "ipython",
    "version": 3
   },
   "file_extension": ".py",
   "mimetype": "text/x-python",
   "name": "python",
   "nbconvert_exporter": "python",
   "pygments_lexer": "ipython3",
   "version": "3.7.10"
  }
 },
 "nbformat": 4,
 "nbformat_minor": 5
}
